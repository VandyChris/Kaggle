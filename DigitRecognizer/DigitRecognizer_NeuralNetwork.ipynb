{
 "cells": [
  {
   "cell_type": "code",
   "execution_count": 1,
   "metadata": {
    "collapsed": false
   },
   "outputs": [
    {
     "name": "stderr",
     "output_type": "stream",
     "text": [
      "C:\\Users\\Chenzhao\\Anaconda\\lib\\site-packages\\theano\\tensor\\signal\\downsample.py:6: UserWarning: downsample module has been moved to the theano.tensor.signal.pool module.\n",
      "  \"downsample module has been moved to the theano.tensor.signal.pool module.\")\n"
     ]
    }
   ],
   "source": [
    "import numpy as np\n",
    "import pandas as pd\n",
    "import matplotlib.pyplot as plt\n",
    "import matplotlib.cm as cm\n",
    "\n",
    "import lasagne\n",
    "from lasagne import layers\n",
    "from lasagne.updates import adam\n",
    "from lasagne.nonlinearities import softmax\n",
    "from lasagne.updates import nesterov_momentum\n",
    "from nolearn.lasagne import NeuralNet\n",
    "from nolearn.lasagne import visualize\n",
    "\n",
    "from nolearn.lasagne import TrainSplit\n",
    "from nolearn.lasagne import objective"
   ]
  },
  {
   "cell_type": "markdown",
   "metadata": {},
   "source": [
    "# prepare data"
   ]
  },
  {
   "cell_type": "code",
   "execution_count": 2,
   "metadata": {
    "collapsed": true
   },
   "outputs": [],
   "source": [
    "dataset = pd.read_csv('train.csv')"
   ]
  },
  {
   "cell_type": "code",
   "execution_count": 3,
   "metadata": {
    "collapsed": false
   },
   "outputs": [],
   "source": [
    "n = int(dataset.shape[0]*0.7)"
   ]
  },
  {
   "cell_type": "code",
   "execution_count": 4,
   "metadata": {
    "collapsed": false
   },
   "outputs": [],
   "source": [
    "x = dataset.iloc[:, 1:].values\n",
    "y = dataset.iloc[:, 0].values"
   ]
  },
  {
   "cell_type": "code",
   "execution_count": 5,
   "metadata": {
    "collapsed": true
   },
   "outputs": [],
   "source": [
    "x_train = x[:n, :].reshape((-1, 1, 28, 28)).astype(np.float32)\n",
    "y_train = y[:n].astype(np.int32)\n",
    "\n",
    "x_vali  = x[n:, :].reshape((-1, 1, 28, 28)).astype(np.float32)\n",
    "y_vali  = y[n:].astype(np.int32)"
   ]
  },
  {
   "cell_type": "code",
   "execution_count": 6,
   "metadata": {
    "collapsed": false
   },
   "outputs": [],
   "source": [
    "dataset2 = pd.read_csv('test.csv')"
   ]
  },
  {
   "cell_type": "code",
   "execution_count": 7,
   "metadata": {
    "collapsed": true
   },
   "outputs": [],
   "source": [
    "x_test = dataset2.values.reshape((-1, 1, 28, 28)).astype(np.float32)"
   ]
  },
  {
   "cell_type": "markdown",
   "metadata": {},
   "source": [
    "# visulize some digits"
   ]
  },
  {
   "cell_type": "code",
   "execution_count": 8,
   "metadata": {
    "collapsed": false
   },
   "outputs": [],
   "source": [
    "%matplotlib inline"
   ]
  },
  {
   "cell_type": "code",
   "execution_count": 9,
   "metadata": {
    "collapsed": false
   },
   "outputs": [
    {
     "data": {
      "text/plain": [
       "<matplotlib.figure.Figure at 0x1fb85d30>"
      ]
     },
     "execution_count": 9,
     "metadata": {},
     "output_type": "execute_result"
    },
    {
     "data": {
      "text/plain": [
       "<matplotlib.figure.Figure at 0x1fb85d30>"
      ]
     },
     "metadata": {},
     "output_type": "display_data"
    }
   ],
   "source": [
    "plt.figure(figsize = (18, 6))"
   ]
  },
  {
   "cell_type": "code",
   "execution_count": 10,
   "metadata": {
    "collapsed": false
   },
   "outputs": [
    {
     "data": {
      "image/png": "[encoded data removed]",
      "text/plain": [
       "<matplotlib.figure.Figure at 0xb26f908>"
      ]
     },
     "metadata": {},
     "output_type": "display_data"
    }
   ],
   "source": [
    "index = [100, 150, 160]\n",
    "for i in range(len(index)):\n",
    "    plt.subplot(1, 3, i+1)\n",
    "    plt.imshow(x_train[index[i], 0, :, :], cmap = cm.binary)"
   ]
  },
  {
   "cell_type": "markdown",
   "metadata": {
    "collapsed": true
   },
   "source": [
    "# model 0: One input layer, one hidden layer, and one output layer"
   ]
  },
  {
   "cell_type": "code",
   "execution_count": 157,
   "metadata": {
    "collapsed": false
   },
   "outputs": [],
   "source": [
    "layer0=[(layers.InputLayer, {'shape': (None, 1, 28, 28)}),\n",
    "        (layers.DenseLayer, {'num_units':1000}),\n",
    "        (layers.DenseLayer, {'num_units':10, 'nonlinearity': softmax})]"
   ]
  },
  {
   "cell_type": "code",
   "execution_count": 158,
   "metadata": {
    "collapsed": true
   },
   "outputs": [],
   "source": [
    "NN0 = NeuralNet(layers = layer0,\n",
    "                 max_epochs = 10,\n",
    "                # optimization method:\n",
    "                update=adam,\n",
    "                update_learning_rate=0.0002\n",
    "        )"
   ]
  },
  {
   "cell_type": "code",
   "execution_count": 159,
   "metadata": {
    "collapsed": false
   },
   "outputs": [
    {
     "data": {
      "text/plain": [
       "NeuralNet(X_tensor_type=None,\n",
       "     batch_iterator_test=<nolearn.lasagne.base.BatchIterator object at 0x000000000B1FA470>,\n",
       "     batch_iterator_train=<nolearn.lasagne.base.BatchIterator object at 0x000000000B1FA320>,\n",
       "     custom_scores=None,\n",
       "     layers=[(<class 'lasagne.layers.input.InputLayer'>, {'shape': (None, 1, 28, 28)}), (<class 'lasagne.layers.dense.DenseLayer'>, {'num_units': 1000}), (<class 'lasagne.layers.dense.DenseLayer'>, {'num_units': 10, 'nonlinearity': <function softmax at 0x000000000AD20128>})],\n",
       "     loss=None, max_epochs=10, more_params={},\n",
       "     objective=<function objective at 0x000000000B1FCC88>,\n",
       "     objective_loss_function=<function categorical_crossentropy at 0x000000000AF49748>,\n",
       "     on_batch_finished=[], on_epoch_finished=[], on_training_finished=[],\n",
       "     on_training_started=[], regression=False,\n",
       "     train_split=<nolearn.lasagne.base.TrainSplit object at 0x000000000B1FA4E0>,\n",
       "     update=<function adam at 0x000000000AF52208>,\n",
       "     update_learning_rate=0.0002, use_label_encoder=False, verbose=0,\n",
       "     y_tensor_type=TensorType(int32, vector))"
      ]
     },
     "execution_count": 159,
     "metadata": {},
     "output_type": "execute_result"
    }
   ],
   "source": [
    "NN0.fit(x_train, y_train)"
   ]
  },
  {
   "cell_type": "code",
   "execution_count": 160,
   "metadata": {
    "collapsed": false
   },
   "outputs": [
    {
     "data": {
      "text/plain": [
       "0.9505594794063963"
      ]
     },
     "execution_count": 160,
     "metadata": {},
     "output_type": "execute_result"
    }
   ],
   "source": [
    "NN0.score(x_vali, y_vali)\n",
    "# the accuracy is only 0.95, lower than the score of random forest of 0.966"
   ]
  },
  {
   "cell_type": "markdown",
   "metadata": {},
   "source": [
    "# model 1: one input layer, two hidden layers, and one output layer"
   ]
  },
  {
   "cell_type": "code",
   "execution_count": 172,
   "metadata": {
    "collapsed": false
   },
   "outputs": [],
   "source": [
    "layer1=[(layers.InputLayer, {'shape': (None, 1, 28, 28)}),\n",
    "        (layers.DenseLayer, {'num_units':1000}),\n",
    "        (layers.DropoutLayer, {}),\n",
    "        (layers.DenseLayer, {'num_units':1000}),\n",
    "        (layers.DenseLayer, {'num_units':10, 'nonlinearity': softmax})]"
   ]
  },
  {
   "cell_type": "code",
   "execution_count": 173,
   "metadata": {
    "collapsed": true
   },
   "outputs": [],
   "source": [
    "NN1 = NeuralNet(layers = layer1,\n",
    "                 max_epochs = 10,\n",
    "                # optimization method:\n",
    "                update=adam,\n",
    "                update_learning_rate=0.0002)"
   ]
  },
  {
   "cell_type": "code",
   "execution_count": 174,
   "metadata": {
    "collapsed": false
   },
   "outputs": [
    {
     "data": {
      "text/plain": [
       "NeuralNet(X_tensor_type=None,\n",
       "     batch_iterator_test=<nolearn.lasagne.base.BatchIterator object at 0x000000000B1FA470>,\n",
       "     batch_iterator_train=<nolearn.lasagne.base.BatchIterator object at 0x000000000B1FA320>,\n",
       "     custom_scores=None,\n",
       "     layers=[(<class 'lasagne.layers.input.InputLayer'>, {'shape': (None, 1, 28, 28)}), (<class 'lasagne.layers.dense.DenseLayer'>, {'num_units': 1000}), (<class 'lasagne.layers.noise.DropoutLayer'>, {}), (<class 'lasagne.layers.dense.DenseLayer'>, {'num_units': 1000}), (<class 'lasagne.layers.dense.DenseLayer'>, {'num_units': 10, 'nonlinearity': <function softmax at 0x000000000AD20128>})],\n",
       "     loss=None, max_epochs=10, more_params={},\n",
       "     objective=<function objective at 0x000000000B1FCC88>,\n",
       "     objective_loss_function=<function categorical_crossentropy at 0x000000000AF49748>,\n",
       "     on_batch_finished=[], on_epoch_finished=[], on_training_finished=[],\n",
       "     on_training_started=[], regression=False,\n",
       "     train_split=<nolearn.lasagne.base.TrainSplit object at 0x000000000B1FA4E0>,\n",
       "     update=<function adam at 0x000000000AF52208>,\n",
       "     update_learning_rate=0.0002, use_label_encoder=False, verbose=0,\n",
       "     y_tensor_type=TensorType(int32, vector))"
      ]
     },
     "execution_count": 174,
     "metadata": {},
     "output_type": "execute_result"
    }
   ],
   "source": [
    "NN1.fit(x_train, y_train)"
   ]
  },
  {
   "cell_type": "code",
   "execution_count": 175,
   "metadata": {
    "collapsed": false
   },
   "outputs": [
    {
     "data": {
      "text/plain": [
       "0.9636536782795017"
      ]
     },
     "execution_count": 175,
     "metadata": {},
     "output_type": "execute_result"
    }
   ],
   "source": [
    "NN1.score(x_vali, y_vali)\n",
    "# the score is now 0.963, which is better than model 0 but still worse than random forest model of 0.966"
   ]
  },
  {
   "cell_type": "markdown",
   "metadata": {},
   "source": [
    "# model 2: using convolutional neural network of one stage"
   ]
  },
  {
   "cell_type": "code",
   "execution_count": 23,
   "metadata": {
    "collapsed": true
   },
   "outputs": [],
   "source": [
    "layer2=[(layers.InputLayer, {'shape': (None, 1, 28, 28)}),\n",
    "        \n",
    "        # first stage of our convolutional layers\n",
    "        (layers.Conv2DLayer, {'num_filters': 96, 'filter_size': 5}),\n",
    "        #(layers.Conv2DLayer, {'num_filters': 96, 'filter_size': 3}),\n",
    "        #(layers.Conv2DLayer, {'num_filters': 96, 'filter_size': 3}),\n",
    "        #(layers.Conv2DLayer, {'num_filters': 96, 'filter_size': 3}),\n",
    "        #(layers.Conv2DLayer, {'num_filters': 96, 'filter_size': 3}),\n",
    "        (layers.MaxPool2DLayer, {'pool_size': 2}),\n",
    "        \n",
    "        # second stage of our convolutional layers\n",
    "        (layers.Conv2DLayer, {'num_filters': 128, 'filter_size': 3}),\n",
    "        #(layers.Conv2DLayer, {'num_filters': 128, 'filter_size': 3}),\n",
    "        #(layers.Conv2DLayer, {'num_filters': 128, 'filter_size': 3}),\n",
    "        (layers.MaxPool2DLayer, {'pool_size': 2}),\n",
    "\n",
    "        (layers.DenseLayer, {'num_units':1000}),\n",
    "        (layers.DropoutLayer, {}),\n",
    "        #(layers.DenseLayer, {'num_units':64}),\n",
    "        \n",
    "        (layers.DenseLayer, {'num_units':10, 'nonlinearity': softmax})]"
   ]
  },
  {
   "cell_type": "code",
   "execution_count": 24,
   "metadata": {
    "collapsed": true
   },
   "outputs": [],
   "source": [
    "NN2 = NeuralNet(layers = layer2,\n",
    "                 max_epochs = 10,\n",
    "                # optimization method:\n",
    "                update=adam,\n",
    "                update_learning_rate=0.0002)"
   ]
  },
  {
   "cell_type": "code",
   "execution_count": 25,
   "metadata": {
    "collapsed": false
   },
   "outputs": [
    {
     "data": {
      "text/plain": [
       "NeuralNet(X_tensor_type=None,\n",
       "     batch_iterator_test=<nolearn.lasagne.base.BatchIterator object at 0x000000000B128668>,\n",
       "     batch_iterator_train=<nolearn.lasagne.base.BatchIterator object at 0x000000000B128518>,\n",
       "     custom_scores=None,\n",
       "     layers=[(<class 'lasagne.layers.input.InputLayer'>, {'shape': (None, 1, 28, 28)}), (<class 'lasagne.layers.conv.Conv2DLayer'>, {'filter_size': 5, 'num_filters': 96}), (<class 'lasagne.layers.pool.MaxPool2DLayer'>, {'pool_size': 2}), (<class 'lasagne.layers.conv.Conv2DLayer'>, {'filter_size': 3, 'num...rs.dense.DenseLayer'>, {'num_units': 10, 'nonlinearity': <function softmax at 0x000000000AC12128>})],\n",
       "     loss=None, max_epochs=10, more_params={},\n",
       "     objective=<function objective at 0x000000000B12AC88>,\n",
       "     objective_loss_function=<function categorical_crossentropy at 0x000000000AE88748>,\n",
       "     on_batch_finished=[], on_epoch_finished=[], on_training_finished=[],\n",
       "     on_training_started=[], regression=False,\n",
       "     train_split=<nolearn.lasagne.base.TrainSplit object at 0x000000000B1286D8>,\n",
       "     update=<function adam at 0x000000000AE91208>,\n",
       "     update_learning_rate=0.0002, use_label_encoder=False, verbose=0,\n",
       "     y_tensor_type=TensorType(int32, vector))"
      ]
     },
     "execution_count": 25,
     "metadata": {},
     "output_type": "execute_result"
    }
   ],
   "source": [
    "NN2.fit(x_train, y_train)"
   ]
  },
  {
   "cell_type": "code",
   "execution_count": 26,
   "metadata": {
    "collapsed": false
   },
   "outputs": [
    {
     "data": {
      "text/plain": [
       "0.988413617966828"
      ]
     },
     "execution_count": 26,
     "metadata": {},
     "output_type": "execute_result"
    }
   ],
   "source": [
    "NN2.score(x_vali, y_vali)"
   ]
  },
  {
   "cell_type": "code",
   "execution_count": 30,
   "metadata": {
    "collapsed": true
   },
   "outputs": [],
   "source": [
    "y_predict = NN2.predict(x_test)"
   ]
  },
  {
   "cell_type": "code",
   "execution_count": 33,
   "metadata": {
    "collapsed": false
   },
   "outputs": [],
   "source": [
    "submission = pd.DataFrame({'ImageId': np.arange(x_test.shape[0]) + 1, 'label': y_predict})\n",
    "submission.to_csv('submission_CNN.csv', index = False)"
   ]
  },
  {
   "cell_type": "code",
   "execution_count": null,
   "metadata": {
    "collapsed": true
   },
   "outputs": [],
   "source": []
  }
 ],
 "metadata": {
  "kernelspec": {
   "display_name": "Python 2",
   "language": "python",
   "name": "python2"
  },
  "language_info": {
   "codemirror_mode": {
    "name": "ipython",
    "version": 2
   },
   "file_extension": ".py",
   "mimetype": "text/x-python",
   "name": "python",
   "nbconvert_exporter": "python",
   "pygments_lexer": "ipython2",
   "version": "2.7.11"
  }
 },
 "nbformat": 4,
 "nbformat_minor": 0
}
